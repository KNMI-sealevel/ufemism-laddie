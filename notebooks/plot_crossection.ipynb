{
 "cells": [
  {
   "cell_type": "code",
   "execution_count": null,
   "metadata": {},
   "outputs": [],
   "source": [
    "import os\n",
    "import matplotlib as mpl\n",
    "import matplotlib.pyplot as plt\n",
    "import xarray as xr\n",
    "import numpy as np\n",
    "import cmocean as cmo\n",
    "from matplotlib.backends.backend_agg import FigureCanvasAgg as FigureCanvas\n",
    "#from matplotlib.patches import Polygon\n",
    "#from copy import copy\n"
   ]
  },
  {
   "cell_type": "code",
   "execution_count": null,
   "metadata": {},
   "outputs": [],
   "source": [
    "vmax = 100\n",
    "vmin = -10\n",
    "linthresh = .3\n",
    "linscale = .25\n",
    "\n",
    "fracpos = (np.log10(vmax/linthresh)+linscale)/(np.log10(vmax/linthresh)+np.log10(-(vmin/linthresh))+2*linscale)\n",
    "nneg = np.int_((1-fracpos)*256)\n",
    "\n",
    "colors1 = plt.get_cmap('cmo.dense_r')(np.linspace(0,1.,nneg+1))\n",
    "colors2 = plt.get_cmap('gist_heat_r')(np.linspace(0., 1, 256-nneg-1))\n",
    "\n",
    "# combine them and build a new colormap\n",
    "colors = np.vstack((colors1, colors2))\n",
    "mymap = mpl.colors.LinearSegmentedColormap.from_list('my_colormap', colors)\n",
    "\n",
    "norm=mpl.colors.SymLogNorm(linthresh, vmin=vmin, vmax=vmax, linscale=linscale)\n",
    "\n",
    "cmap2 = plt.get_cmap('cmo.ice')\n",
    "norm2 = mpl.colors.Normalize(vmin=100,vmax=800)\n",
    "\n",
    "cmap3 = plt.get_cmap('cmo.rain')\n",
    "norm3 = mpl.colors.Normalize(vmin=0,vmax=1)"
   ]
  },
  {
   "cell_type": "code",
   "execution_count": null,
   "metadata": {},
   "outputs": [],
   "source": [
    "runname = 'MISMIPplus_5km_runtime_FCMP'"
   ]
  },
  {
   "cell_type": "code",
   "execution_count": null,
   "metadata": {},
   "outputs": [],
   "source": [
    "ds0 = xr.open_dataset(f'../output/{runname}/main_output_ANT_grid.nc')\n",
    "ds0['x'] = ds0.x/1000\n",
    "ds0['y'] = ds0.y/1000"
   ]
  },
  {
   "cell_type": "code",
   "execution_count": null,
   "metadata": {},
   "outputs": [],
   "source": [
    "ymin = -800\n",
    "ymax = 1000\n",
    "ymax2 = 250\n",
    "\n",
    "lwborder = 2.\n",
    "\n",
    "j0 = np.argmin(ds0.y.data**2)\n",
    "xsecs = [400,450,500]\n",
    "i0 = []\n",
    "for x in xsecs:\n",
    "    i0.append(np.argmin((ds0.x.data-x)**2))\n",
    "\n",
    "cols = ['tab:red','tab:blue','tab:orange']\n",
    "col2 = 'tab:green'\n"
   ]
  },
  {
   "cell_type": "code",
   "execution_count": null,
   "metadata": {},
   "outputs": [],
   "source": [
    "f = 0\n",
    "\n",
    "fig = plt.figure(figsize=(10,5))\n",
    "\n",
    "gs = fig.add_gridspec(len(xsecs),2,  width_ratios=(1, 1), height_ratios=(np.ones(3)),\n",
    "                    left=0.1, right=0.9, bottom=0.1, top=0.9,\n",
    "                    wspace=0.15, hspace=0.1)\n",
    "\n",
    "for t in range(len(ds0.time)):\n",
    "    #Make up figure\n",
    "    \n",
    "    # section along flow\n",
    "    ax = fig.add_subplot(gs[:,0])\n",
    "    ax.plot(ds0.x,ds0.Hib[0,j0,:],color='.9',zorder=9)\n",
    "    ax.plot(ds0.x,ds0.Hs[0,j0,:],color='.9',zorder=9)\n",
    "\n",
    "    dds = ds0.isel(time=t,y=j0)\n",
    "\n",
    "    ax.fill_between(dds.x,ymin,dds.Hb,color='brown')\n",
    "    ax.fill_between(dds.x,dds.Hb,dds.Hib,color='teal')\n",
    "    ax.fill_between(dds.x,dds.Hib,dds.Hs,color='.9')\n",
    "    ax.fill_between(dds.x,dds.Hs,ymax,color='lightblue')\n",
    "\n",
    "    for i,x in enumerate(xsecs):\n",
    "        ax.plot([x,x],[ymin,ymax2],c=cols[i],lw=lwborder,zorder=10)\n",
    "\n",
    "    ax.set_xlim(300,650)\n",
    "    ax.set_ylim(ymin,ymax)\n",
    "\n",
    "    for sp in ['bottom','top','left','right']:\n",
    "        ax.spines[sp].set_color(col2)\n",
    "        ax.spines[sp].set_linewidth(lwborder)\n",
    "        ax.spines[sp].set_zorder(10)\n",
    "\n",
    "    # sections across flow\n",
    "    for i,ii in enumerate(i0):\n",
    "        ax = fig.add_subplot(gs[i,1])\n",
    "        ax.plot(ds0.y,ds0.Hib[0,:,ii],color='.9')\n",
    "        ax.plot(ds0.y,ds0.Hs[0,:,ii],color='.9')\n",
    "\n",
    "        dds = ds0.isel(time=t,x=ii)\n",
    "        ax.fill_between(dds.y,ymin,dds.Hb,color='brown')\n",
    "        ax.fill_between(dds.y,dds.Hb,dds.Hib,color='teal')\n",
    "        ax.fill_between(dds.y,dds.Hib,dds.Hs,color='.9')\n",
    "        ax.fill_between(dds.y,dds.Hs,ymax,color='lightblue')\n",
    "\n",
    "        ax.plot([0,0],[ymin,ymax2],c=col2,lw=lwborder,zorder=10)\n",
    "\n",
    "        ax.set_ylim(ymin,ymax2)\n",
    "        ax.set_xlim(-40,40)\n",
    "        if ii<i0[-1]:\n",
    "            ax.set_xticklabels([])\n",
    "        ax.invert_xaxis()\n",
    "\n",
    "        for sp in ['bottom','top','left','right']:\n",
    "            ax.spines[sp].set_color(cols[i])\n",
    "            ax.spines[sp].set_linewidth(lwborder)\n",
    "            ax.spines[sp].set_zorder(10)\n",
    "\n",
    "    fig.suptitle(f\"Year {ds0.time[t].data-20000:10.2f}\")\n",
    "\n",
    "    canvas = FigureCanvas(fig)\n",
    "    canvas.print_figure(f'../video/frame_{f:03d}.png',dpi=300)\n",
    "\n",
    "    f += 1\n",
    "    plt.clf()"
   ]
  },
  {
   "cell_type": "code",
   "execution_count": null,
   "metadata": {},
   "outputs": [],
   "source": [
    "#Make video\n",
    "framerate = 40\n",
    "\n",
    "command = f'ffmpeg -r {framerate} -f image2 -i ../video/frame_%03d.png -pix_fmt yuv420p -vcodec libx264 -crf 24 ../video/sections_{runname}.mp4'\n",
    "print(command)\n",
    "\n",
    "os.system(command)\n",
    "os.system('rm -r ../video/frame_*.png')"
   ]
  },
  {
   "cell_type": "code",
   "execution_count": null,
   "metadata": {},
   "outputs": [],
   "source": []
  }
 ],
 "metadata": {
  "kernelspec": {
   "display_name": "Python 3",
   "language": "python",
   "name": "python3"
  },
  "language_info": {
   "codemirror_mode": {
    "name": "ipython",
    "version": 3
   },
   "file_extension": ".py",
   "mimetype": "text/x-python",
   "name": "python",
   "nbconvert_exporter": "python",
   "pygments_lexer": "ipython3",
   "version": "3.8.13"
  }
 },
 "nbformat": 4,
 "nbformat_minor": 2
}
