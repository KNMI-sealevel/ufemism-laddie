{
 "cells": [
  {
   "cell_type": "code",
   "execution_count": 1,
   "metadata": {},
   "outputs": [],
   "source": [
    "import os\n",
    "import matplotlib as mpl\n",
    "import matplotlib.pyplot as plt\n",
    "import xarray as xr\n",
    "import numpy as np\n",
    "from matplotlib.collections import LineCollection\n",
    "import cmocean as cmo"
   ]
  },
  {
   "cell_type": "code",
   "execution_count": 11,
   "metadata": {},
   "outputs": [],
   "source": [
    "moviename = 'BMB_ufelad_full_GL_2km'\n",
    "tfinished = 36 # 0"
   ]
  },
  {
   "cell_type": "code",
   "execution_count": 3,
   "metadata": {},
   "outputs": [],
   "source": [
    "vmax = 100\n",
    "vmin = -10\n",
    "linthresh = .3\n",
    "linscale = .25\n",
    "\n",
    "fracpos = (np.log10(vmax/linthresh)+linscale)/(np.log10(vmax/linthresh)+np.log10(-(vmin/linthresh))+2*linscale)\n",
    "nneg = np.int_((1-fracpos)*256)\n",
    "\n",
    "colors1 = plt.get_cmap('cmo.dense_r')(np.linspace(0,1.,nneg+1))\n",
    "colors2 = plt.get_cmap('gist_heat_r')(np.linspace(0., 1, 256-nneg-1))\n",
    "\n",
    "# combine them and build a new colormap\n",
    "colors = np.vstack((colors1, colors2))\n",
    "mymap = mpl.colors.LinearSegmentedColormap.from_list('my_colormap', colors)\n",
    "\n",
    "norm=mpl.colors.SymLogNorm(linthresh, vmin=vmin, vmax=vmax, linscale=linscale)"
   ]
  },
  {
   "cell_type": "code",
   "execution_count": 12,
   "metadata": {},
   "outputs": [],
   "source": [
    "Ncol = 10\n",
    "\n",
    "#Get all line segments\n",
    "ds = xr.open_dataset('../output/MISMIPplus_5km_runtime/main_output_ANT_00003.nc')\n",
    "\n",
    "allsegments = np.zeros((len(ds.vi),len(ds.ci),Ncol-1,2,2))\n",
    "for v in ds.vi:\n",
    "    for n in range(ds.nC[v].data):\n",
    "        x = np.linspace(ds.V[0,v],ds.V[0,ds.C[n,v]-1],Ncol)\n",
    "        y = np.linspace(ds.V[1,v],ds.V[1,ds.C[n,v]-1],Ncol)\n",
    "        \n",
    "        points = np.array([x, y]).T.reshape(-1, 1, 2)\n",
    "        allsegments[v,n,:,:,:] = np.concatenate([points[:-1], points[1:]], axis=1)\n"
   ]
  },
  {
   "cell_type": "code",
   "execution_count": 13,
   "metadata": {},
   "outputs": [
    {
     "name": "stdout",
     "output_type": "stream",
     "text": [
      "Finished frame 036\n",
      "Finished frame 037\n",
      "Finished frame 038\n",
      "Finished frame 039\n",
      "Finished frame 040\n"
     ]
    }
   ],
   "source": [
    "#Make frames\n",
    "for t in range(len(ds.time)):\n",
    "    fig,ax = plt.subplots(1,1,figsize=(10,5))\n",
    "\n",
    "    for v in ds.vi:\n",
    "        for n in range(ds.nC[v].data):\n",
    "            cols = np.linspace(-ds.BMB[t,v],-ds.BMB[t,ds.C[n,v]-1],Ncol)\n",
    "            lc = LineCollection(allsegments[v,n,:,:,:], cmap=mymap,norm=norm)\n",
    "            lc.set_array(cols)\n",
    "            lc.set_linewidth(.2)\n",
    "            line = ax.add_collection(lc)\n",
    "\n",
    "    ax.set_xlim(4e5,6.5e5)\n",
    "    #ax.set_xlim(0e5,8.5e5)\n",
    "    ax.set_ylim(-4e4,4e4)\n",
    "    ax.set_aspect(1)\n",
    "    ax.set_title(f\"Year {ds.time[t].data-ds.time[0].data:10.2f}\")\n",
    "\n",
    "    ticks = [-10,-3,-1,-.3,0,.3,1,3,10,30,100]\n",
    "    cb = fig.colorbar(line,ax=ax,extend='both',shrink=.5)\n",
    "    cb.set_ticks(ticks)\n",
    "    cb.set_ticklabels(ticks)\n",
    "\n",
    "    plt.tight_layout()\n",
    "    plt.savefig(f\"../video/frame_{tfinished:03d}\")\n",
    "    plt.close()\n",
    "    print(f\"Finished frame {tfinished:03d}\")\n",
    "    tfinished += 1\n"
   ]
  },
  {
   "cell_type": "code",
   "execution_count": 14,
   "metadata": {},
   "outputs": [
    {
     "name": "stderr",
     "output_type": "stream",
     "text": [
      "ffmpeg version 6.1.1 Copyright (c) 2000-2023 the FFmpeg developers\n",
      "  built with Apple clang version 15.0.0 (clang-1500.1.0.2.5)\n",
      "  configuration: --prefix=/usr/local/Cellar/ffmpeg/6.1.1_2 --enable-shared --enable-pthreads --enable-version3 --cc=clang --host-cflags= --host-ldflags='-Wl,-ld_classic' --enable-ffplay --enable-gnutls --enable-gpl --enable-libaom --enable-libaribb24 --enable-libbluray --enable-libdav1d --enable-libharfbuzz --enable-libjxl --enable-libmp3lame --enable-libopus --enable-librav1e --enable-librist --enable-librubberband --enable-libsnappy --enable-libsrt --enable-libssh --enable-libsvtav1 --enable-libtesseract --enable-libtheora --enable-libvidstab --enable-libvmaf --enable-libvorbis --enable-libvpx --enable-libwebp --enable-libx264 --enable-libx265 --enable-libxml2 --enable-libxvid --enable-lzma --enable-libfontconfig --enable-libfreetype --enable-frei0r --enable-libass --enable-libopencore-amrnb --enable-libopencore-amrwb --enable-libopenjpeg --enable-libopenvino --enable-libspeex --enable-libsoxr --enable-libzmq --enable-libzimg --disable-libjack --disable-indev=jack --enable-videotoolbox --enable-audiotoolbox\n",
      "  libavutil      58. 29.100 / 58. 29.100\n",
      "  libavcodec     60. 31.102 / 60. 31.102\n",
      "  libavformat    60. 16.100 / 60. 16.100\n",
      "  libavdevice    60.  3.100 / 60.  3.100\n",
      "  libavfilter     9. 12.100 /  9. 12.100\n",
      "  libswscale      7.  5.100 /  7.  5.100\n",
      "  libswresample   4. 12.100 /  4. 12.100\n",
      "  libpostproc    57.  3.100 / 57.  3.100\n",
      "Input #0, image2, from '../video/frame_%03d.png':\n",
      "  Duration: 00:00:10.25, start: 0.000000, bitrate: N/A\n",
      "  Stream #0:0: Video: png, rgba(pc, gbr/unknown/unknown), 1000x500 [SAR 3937:3937 DAR 2:1], 4 fps, 4 tbr, 4 tbn\n",
      "Stream mapping:\n",
      "  Stream #0:0 -> #0:0 (png (native) -> h264 (libx264))\n",
      "Press [q] to stop, [?] for help\n",
      "[libx264 @ 0x7fa70900ed80] using SAR=1/1\n",
      "[libx264 @ 0x7fa70900ed80] using cpu capabilities: MMX2 SSE2Fast SSSE3 SSE4.2 AVX FMA3 BMI2 AVX2\n",
      "[libx264 @ 0x7fa70900ed80] profile High, level 3.1, 4:2:0, 8-bit\n",
      "[libx264 @ 0x7fa70900ed80] 264 - core 164 r3108 31e19f9 - H.264/MPEG-4 AVC codec - Copyleft 2003-2023 - http://www.videolan.org/x264.html - options: cabac=1 ref=3 deblock=1:0:0 analyse=0x3:0x113 me=hex subme=7 psy=1 psy_rd=1.00:0.00 mixed_ref=1 me_range=16 chroma_me=1 trellis=1 8x8dct=1 cqm=0 deadzone=21,11 fast_pskip=1 chroma_qp_offset=-2 threads=16 lookahead_threads=2 sliced_threads=0 nr=0 decimate=1 interlaced=0 bluray_compat=0 constrained_intra=0 bframes=3 b_pyramid=2 b_adapt=1 b_bias=0 direct=1 weightb=1 open_gop=0 weightp=2 keyint=250 keyint_min=4 scenecut=40 intra_refresh=0 rc_lookahead=40 rc=crf mbtree=1 crf=23.0 qcomp=0.60 qpmin=0 qpmax=69 qpstep=4 ip_ratio=1.40 aq=1:1.00\n",
      "Output #0, mp4, to '../video/BMB_ufelad_full_GL_2km.mp4':\n",
      "  Metadata:\n",
      "    encoder         : Lavf60.16.100\n",
      "  Stream #0:0: Video: h264 (avc1 / 0x31637661), yuv420p(tv, progressive), 1000x500 [SAR 1:1 DAR 2:1], q=2-31, 4 fps, 16384 tbn\n",
      "    Metadata:\n",
      "      encoder         : Lavc60.31.102 libx264\n",
      "    Side data:\n",
      "      cpb: bitrate max/min/avg: 0/0/0 buffer size: 0 vbv_delay: N/A\n",
      "[out#0/mp4 @ 0x7fa70b4040c0] video:354kB audio:0kB subtitle:0kB other streams:0kB global headers:0kB muxing overhead: 0.378304%\n",
      "frame=   41 fps=0.0 q=-1.0 Lsize=     355kB time=00:00:09.50 bitrate= 306.1kbits/s speed=32.9x    \n",
      "[libx264 @ 0x7fa70900ed80] frame I:1     Avg QP: 9.05  size:101727\n",
      "[libx264 @ 0x7fa70900ed80] frame P:10    Avg QP:13.88  size: 22476\n",
      "[libx264 @ 0x7fa70900ed80] frame B:30    Avg QP:20.47  size:  1166\n",
      "[libx264 @ 0x7fa70900ed80] consecutive B-frames:  2.4%  0.0%  0.0% 97.6%\n",
      "[libx264 @ 0x7fa70900ed80] mb I  I16..4: 64.5%  4.3% 31.2%\n",
      "[libx264 @ 0x7fa70900ed80] mb P  I16..4:  0.1%  0.8%  2.9%  P16..4: 11.9%  2.0%  3.1%  0.0%  0.0%    skip:79.2%\n",
      "[libx264 @ 0x7fa70900ed80] mb B  I16..4:  0.0%  0.0%  0.1%  B16..8:  7.2%  0.5%  0.4%  direct: 0.5%  skip:91.3%  L0:37.4% L1:58.7% BI: 3.9%\n",
      "[libx264 @ 0x7fa70900ed80] 8x8 transform intra:9.1% inter:43.3%\n",
      "[libx264 @ 0x7fa70900ed80] coded y,uvDC,uvAC intra: 48.6% 45.1% 44.6% inter: 4.1% 5.1% 2.4%\n",
      "[libx264 @ 0x7fa70900ed80] i16 v,h,dc,p: 88%  7%  5%  0%\n",
      "[libx264 @ 0x7fa70900ed80] i8 v,h,dc,ddl,ddr,vr,hd,vl,hu: 14%  6% 42%  7%  7%  7%  5%  7%  6%\n",
      "[libx264 @ 0x7fa70900ed80] i4 v,h,dc,ddl,ddr,vr,hd,vl,hu: 12% 17% 20%  9%  8%  9%  8%  8%  9%\n",
      "[libx264 @ 0x7fa70900ed80] i8c dc,h,v,p: 82%  6%  4%  8%\n",
      "[libx264 @ 0x7fa70900ed80] Weighted P-Frames: Y:0.0% UV:0.0%\n",
      "[libx264 @ 0x7fa70900ed80] ref P L0: 75.3% 12.9%  7.8%  3.9%\n",
      "[libx264 @ 0x7fa70900ed80] ref B L0: 89.6%  8.7%  1.7%\n",
      "[libx264 @ 0x7fa70900ed80] ref B L1: 95.8%  4.2%\n",
      "[libx264 @ 0x7fa70900ed80] kb/s:282.11\n"
     ]
    },
    {
     "data": {
      "text/plain": [
       "0"
      ]
     },
     "execution_count": 14,
     "metadata": {},
     "output_type": "execute_result"
    }
   ],
   "source": [
    "#Make video\n",
    "os.system(f'ffmpeg -r 4 -f image2 -i ../video/frame_%03d.png -pix_fmt yuv420p ../video/{moviename}.mp4')\n",
    "#os.system(f'rm -r ../video/frame*.png')"
   ]
  },
  {
   "cell_type": "code",
   "execution_count": null,
   "metadata": {},
   "outputs": [],
   "source": []
  }
 ],
 "metadata": {
  "kernelspec": {
   "display_name": "Python 3",
   "language": "python",
   "name": "python3"
  },
  "language_info": {
   "codemirror_mode": {
    "name": "ipython",
    "version": 3
   },
   "file_extension": ".py",
   "mimetype": "text/x-python",
   "name": "python",
   "nbconvert_exporter": "python",
   "pygments_lexer": "ipython3",
   "version": "3.8.13"
  }
 },
 "nbformat": 4,
 "nbformat_minor": 2
}
